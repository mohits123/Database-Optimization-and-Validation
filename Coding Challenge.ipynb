{
 "cells": [
  {
   "cell_type": "code",
   "execution_count": 1,
   "id": "a113860a",
   "metadata": {},
   "outputs": [],
   "source": [
    "#Task 10:- Develop a Python script that performs a boundary check on a given column\n",
    "#of data. The script should take a column name, minimum value,\n",
    "#and maximum value as input and flag any rows in the database where the\n",
    "#column value is outside the specified bounds."
   ]
  },
  {
   "cell_type": "code",
   "execution_count": 2,
   "id": "e560fee7",
   "metadata": {},
   "outputs": [],
   "source": [
    "#pip install pymysql"
   ]
  },
  {
   "cell_type": "code",
   "execution_count": 6,
   "id": "527d2588",
   "metadata": {},
   "outputs": [
    {
     "name": "stdout",
     "output_type": "stream",
     "text": [
      "Enter the column name: employeeNumber\n",
      "Enter the minimum value: 1002\n",
      "Enter the maximum value: 1370\n",
      "Rows outside bounds for column employeeNumber:\n",
      "(1401, 'Castillo', 'Pamela', 'x2759', 'pcastillo@classicmodelcars.com', '4', 1102, 'Sales Rep')\n",
      "(1501, 'Bott', 'Larry', 'x2311', 'lbott@classicmodelcars.com', '7', 1102, 'Sales Rep')\n",
      "(1504, 'Jones', 'Barry', 'x102', 'bjones@classicmodelcars.com', '7', 1102, 'Sales Rep')\n",
      "(1611, 'Fixter', 'Andy', 'x101', 'afixter@classicmodelcars.com', '6', 1088, 'Sales Rep')\n",
      "(1612, 'Marsh', 'Peter', 'x102', 'pmarsh@classicmodelcars.com', '6', 1088, 'Sales Rep')\n",
      "(1619, 'King', 'Tom', 'x103', 'tking@classicmodelcars.com', '6', 1088, 'Sales Rep')\n",
      "(1621, 'Nishi', 'Mami', 'x101', 'mnishi@classicmodelcars.com', '5', 1056, 'Sales Rep')\n",
      "(1625, 'Kato', 'Yoshimi', 'x102', 'ykato@classicmodelcars.com', '5', 1621, 'Sales Rep')\n",
      "(1702, 'Gerard', 'Martin', 'x2312', 'mgerard@classicmodelcars.com', '4', 1102, 'Sales Rep')\n"
     ]
    }
   ],
   "source": [
    "import pymysql\n",
    "\n",
    "# Input parameters\n",
    "column_name = input(\"Enter the column name: \")\n",
    "min_value = float(input(\"Enter the minimum value: \"))\n",
    "max_value = float(input(\"Enter the maximum value: \"))\n",
    "\n",
    "# Connect to the MySQL database (change this according to your database)\n",
    "conn = pymysql.connect(host='18.212.98.121',\n",
    "                       user='farhan',\n",
    "                       password='farhan',\n",
    "                       database='classicmodels')\n",
    "\n",
    "cursor = conn.cursor()\n",
    "\n",
    "# Replace 'your_table' with the actual name of your table\n",
    "table_name = 'employees'\n",
    "\n",
    "# Execute a query to select rows where the column value is outside the specified bounds\n",
    "query = f\"SELECT * FROM {table_name} WHERE {column_name} < %s OR {column_name} > %s\"\n",
    "cursor.execute(query, (min_value, max_value))\n",
    "\n",
    "# Fetch the result\n",
    "rows_outside_bounds = cursor.fetchall()\n",
    "\n",
    "# Display or log the flagged rows\n",
    "if rows_outside_bounds:\n",
    "    print(f\"Rows outside bounds for column {column_name}:\")\n",
    "    for row in rows_outside_bounds:\n",
    "        print(row)\n",
    "else:\n",
    "    print(\"No rows outside bounds.\")\n",
    "    \n",
    "\n",
    "# Close the database connection\n",
    "conn.close()\n",
    "\n"
   ]
  },
  {
   "cell_type": "code",
   "execution_count": null,
   "id": "116095e8",
   "metadata": {},
   "outputs": [],
   "source": []
  },
  {
   "cell_type": "code",
   "execution_count": 4,
   "id": "05936399",
   "metadata": {},
   "outputs": [],
   "source": [
    "#Task 11- Write a Python function that validates email addresses in a database table\n",
    "#using regular expressions. The function should identify and flag any invalid\n",
    "#email addresses in the specified column."
   ]
  },
  {
   "cell_type": "code",
   "execution_count": 15,
   "id": "e7c1dc7e",
   "metadata": {},
   "outputs": [
    {
     "name": "stdout",
     "output_type": "stream",
     "text": [
      "Invalid email addresses in column email:\n",
      "Row (1002, 'Murphy', 'Diane', 'x5800', 'dmurphy@classicmodelcars.com', '1', None, 'President'): Murphy\n",
      "Row (1056, 'Patterson', 'Mary', 'x4611', 'mpatterso@classicmodelcars.com', '1', 1002, 'VP Sales'): Patterson\n",
      "Row (1076, 'Firrelli', 'Jeff', 'x9273', 'jfirrelli@classicmodelcars.com', '1', 1002, 'VP Marketing'): Firrelli\n",
      "Row (1088, 'Patterson', 'William', 'x4871', 'wpatterson@classicmodelcars.com', '6', 1056, 'Sales Manager (APAC)'): Patterson\n",
      "Row (1102, 'Bondur', 'Gerard', 'x5408', 'gbondur@classicmodelcars.com', '4', 1056, 'Sale Manager (EMEA)'): Bondur\n",
      "Row (1143, 'Bow', 'Anthony', 'x5428', 'abow@classicmodelcars.com', '1', 1056, 'Sales Manager (NA)'): Bow\n",
      "Row (1165, 'Jennings', 'Leslie', 'x3291', 'ljennings@classicmodelcars.com', '1', 1143, 'Sales Rep'): Jennings\n",
      "Row (1166, 'Thompson', 'Leslie', 'x4065', 'lthompson@classicmodelcars.com', '1', 1143, 'Sales Rep'): Thompson\n",
      "Row (1188, 'Firrelli', 'Julie', 'x2173', 'jfirrelli@classicmodelcars.com', '2', 1143, 'Sales Rep'): Firrelli\n",
      "Row (1216, 'Patterson', 'Steve', 'x4334', 'spatterson@classicmodelcars.com', '2', 1143, 'Sales Rep'): Patterson\n",
      "Row (1286, 'Tseng', 'Foon Yue', 'x2248', 'ftseng@classicmodelcars.com', '3', 1143, 'Sales Rep'): Tseng\n",
      "Row (1323, 'Vanauf', 'George', 'x4102', 'gvanauf@classicmodelcars.com', '3', 1143, 'Sales Rep'): Vanauf\n",
      "Row (1337, 'Bondur', 'Loui', 'x6493', 'lbondur@classicmodelcars.com', '4', 1102, 'Sales Rep'): Bondur\n",
      "Row (1370, 'Hernandez', 'Gerard', 'x2028', 'ghernande@classicmodelcars.com', '4', 1102, 'Sales Rep'): Hernandez\n",
      "Row (1401, 'Castillo', 'Pamela', 'x2759', 'pcastillo@classicmodelcars.com', '4', 1102, 'Sales Rep'): Castillo\n",
      "Row (1501, 'Bott', 'Larry', 'x2311', 'lbott@classicmodelcars.com', '7', 1102, 'Sales Rep'): Bott\n",
      "Row (1504, 'Jones', 'Barry', 'x102', 'bjones@classicmodelcars.com', '7', 1102, 'Sales Rep'): Jones\n",
      "Row (1611, 'Fixter', 'Andy', 'x101', 'afixter@classicmodelcars.com', '6', 1088, 'Sales Rep'): Fixter\n",
      "Row (1612, 'Marsh', 'Peter', 'x102', 'pmarsh@classicmodelcars.com', '6', 1088, 'Sales Rep'): Marsh\n",
      "Row (1619, 'King', 'Tom', 'x103', 'tking@classicmodelcars.com', '6', 1088, 'Sales Rep'): King\n",
      "Row (1621, 'Nishi', 'Mami', 'x101', 'mnishi@classicmodelcars.com', '5', 1056, 'Sales Rep'): Nishi\n",
      "Row (1625, 'Kato', 'Yoshimi', 'x102', 'ykato@classicmodelcars.com', '5', 1621, 'Sales Rep'): Kato\n",
      "Row (1702, 'Gerard', 'Martin', 'x2312', 'mgerard@classicmodelcars.com', '4', 1102, 'Sales Rep'): Gerard\n"
     ]
    }
   ],
   "source": [
    "import pymysql\n",
    "import re\n",
    "\n",
    "def validate_email_addresses(column_name):\n",
    "    # Connect to the MySQL database (change this according to your database)\n",
    "    conn = pymysql.connect(host='18.212.98.121',\n",
    "                           user='farhan',\n",
    "                           password='farhan',\n",
    "                           database='classicmodels')\n",
    "\n",
    "    cursor = conn.cursor()\n",
    "\n",
    "    # Replace 'your_table' with the actual name of your table\n",
    "    table_name = 'employees'\n",
    "    column_name='email'\n",
    "\n",
    "    # Execute a query to select all rows and the specified email column\n",
    "    query = f\"SELECT * FROM employees WHERE email IS NOT NULL\"\n",
    "    cursor.execute(query)\n",
    "\n",
    "    # Fetch the result\n",
    "    rows = cursor.fetchall()\n",
    "\n",
    "    # Regular expression for validating an Email\n",
    "    email_regex = re.compile(r'^[a-zA-Z0-9._%+-]+@[a-zA-Z0-9.-]+\\.[a-zA-Z]{2,}$')\n",
    "\n",
    "    # List to store invalid email addresses\n",
    "    invalid_emails = []\n",
    "\n",
    "    # Check each row for valid email addresses\n",
    "    for row in rows:\n",
    "        email = row[1]  # Assuming the email column is the second column in the table\n",
    "        if not re.match(email_regex, email):\n",
    "            invalid_emails.append((row, email))\n",
    "\n",
    "    # Display or log the invalid email addresses\n",
    "    if invalid_emails:\n",
    "        print(f\"Invalid email addresses in column {column_name}:\")\n",
    "        for row, invalid_email in invalid_emails:\n",
    "            print(f\"Row {row}: {invalid_email}\")\n",
    "    else:\n",
    "        print(f\"All email addresses in column {column_name} are valid.\")\n",
    "\n",
    "    # Close the database connection\n",
    "    conn.close()\n",
    "\n",
    "# Example usage: Validate email addresses in the 'email' column\n",
    "validate_email_addresses('email')\n"
   ]
  },
  {
   "cell_type": "code",
   "execution_count": null,
   "id": "57d1638a",
   "metadata": {},
   "outputs": [],
   "source": []
  },
  {
   "cell_type": "code",
   "execution_count": 16,
   "id": "7082301d",
   "metadata": {},
   "outputs": [],
   "source": [
    "#Task 12-- Create a Python script that automates regular audits on a sample database.\n",
    "#The script should connect to the database, validate entries against predefined\n",
    "#business rules, and generate a report summarizing the results."
   ]
  },
  {
   "cell_type": "code",
   "execution_count": 26,
   "id": "c0bb991e",
   "metadata": {},
   "outputs": [
    {
     "name": "stdout",
     "output_type": "stream",
     "text": [
      "No issues found during the audit.\n"
     ]
    }
   ],
   "source": [
    "import pymysql\n",
    "\n",
    "def connect_to_database():\n",
    "    # Replace these with the provided MySQL connection details\n",
    "    host = '18.212.98.121'\n",
    "    user = 'farhan'\n",
    "    password = 'farhan'\n",
    "    database = 'classicmodels'\n",
    "\n",
    "    # Connect to the database\n",
    "    conn = pymysql.connect(host=host, user=user, password=password, database=database)\n",
    "    cursor = conn.cursor()\n",
    "\n",
    "    return conn, cursor\n",
    "\n",
    "def close_database_connection(conn, cursor):\n",
    "    # Close the database connection\n",
    "    cursor.close()\n",
    "    conn.close()\n",
    "\n",
    "def perform_audit():\n",
    "    # Connect to the database\n",
    "    conn, cursor = connect_to_database()\n",
    "\n",
    "    try:\n",
    "        # Perform the audit - Replace with your own business rules\n",
    "        # For example, validating that certain columns meet specific criteria\n",
    "        # You should customize this part based on your business rules and database schema\n",
    "        query = \"SELECT * FROM employees WHERE employeeNumber<1000\"\n",
    "        cursor.execute(query)\n",
    "        audit_results = cursor.fetchall()\n",
    "\n",
    "        # Generate a report summarizing the audit results\n",
    "        if audit_results:\n",
    "            print(\"Audit Results:\")\n",
    "            for result in audit_results:\n",
    "                print(result)\n",
    "        else:\n",
    "            print(\"No issues found during the audit.\")\n",
    "\n",
    "    except Exception as e:\n",
    "        print(f\"Error during audit: {e}\")\n",
    "\n",
    "    finally:\n",
    "        # Close the database connection\n",
    "        close_database_connection(conn, cursor)\n",
    "\n",
    "# Execute the audit\n",
    "perform_audit()\n"
   ]
  },
  {
   "cell_type": "code",
   "execution_count": null,
   "id": "34aea074",
   "metadata": {},
   "outputs": [],
   "source": []
  },
  {
   "cell_type": "code",
   "execution_count": null,
   "id": "fdfeb574",
   "metadata": {},
   "outputs": [],
   "source": [
    "#task 13- Create a Python script that checks historical logs from the DB predicts\n",
    "#most repeatable queries. hint: https://stackoverflow.com/questions/650238/howto-\n",
    "#show-the-last-queries-executed-on-mysql"
   ]
  },
  {
   "cell_type": "code",
   "execution_count": null,
   "id": "6941a2aa",
   "metadata": {},
   "outputs": [],
   "source": [
    "import re\n",
    "\n",
    "def analyze_query_log(log_file_path):\n",
    "    # Read the content of the log file\n",
    "    with open(log_file_path, 'r') as log_file:\n",
    "        log_content = log_file.read()\n",
    "\n",
    "    # Extract queries from the log using regular expressions\n",
    "    query_pattern = re.compile(r'\\b(?:SELECT|INSERT|UPDATE|DELETE|ALTER|CREATE|DROP)\\b.*?;', re.DOTALL)\n",
    "    queries = query_pattern.findall(log_content)\n",
    "\n",
    "    # Count the occurrences of each query\n",
    "    query_counts = {}\n",
    "    for query in queries:\n",
    "        query_counts[query] = query_counts.get(query, 0) + 1\n",
    "\n",
    "    # Sort queries by frequency in descending order\n",
    "    sorted_queries = sorted(query_counts.items(), key=lambda x: x[1], reverse=True)\n",
    "\n",
    "    # Display the most repeatable queries and their frequencies\n",
    "    print(\"Most Repeatable Queries:\")\n",
    "    for query, count in sorted_queries:\n",
    "        print(f\"Query: {query.strip()}\\nCount: {count}\\n{'-' * 30}\")\n",
    "\n",
    "if __name__ == \"__main__\":\n",
    "    # Provide the path to your MySQL general query log file\n",
    "    log_file_path = '/path/to/mysql/query.log'\n",
    "    \n",
    "    # Analyze the query log\n",
    "    analyze_query_log(log_file_path)\n"
   ]
  },
  {
   "cell_type": "code",
   "execution_count": null,
   "id": "01173ac8",
   "metadata": {},
   "outputs": [],
   "source": []
  },
  {
   "cell_type": "code",
   "execution_count": null,
   "id": "b26074a4",
   "metadata": {},
   "outputs": [],
   "source": []
  }
 ],
 "metadata": {
  "kernelspec": {
   "display_name": "Python 3 (ipykernel)",
   "language": "python",
   "name": "python3"
  },
  "language_info": {
   "codemirror_mode": {
    "name": "ipython",
    "version": 3
   },
   "file_extension": ".py",
   "mimetype": "text/x-python",
   "name": "python",
   "nbconvert_exporter": "python",
   "pygments_lexer": "ipython3",
   "version": "3.11.5"
  }
 },
 "nbformat": 4,
 "nbformat_minor": 5
}
